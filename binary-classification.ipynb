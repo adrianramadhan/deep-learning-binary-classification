{
 "cells": [
  {
   "cell_type": "code",
   "execution_count": 12,
   "metadata": {},
   "outputs": [
    {
     "data": {
      "text/html": [
       "<div>\n",
       "<style scoped>\n",
       "    .dataframe tbody tr th:only-of-type {\n",
       "        vertical-align: middle;\n",
       "    }\n",
       "\n",
       "    .dataframe tbody tr th {\n",
       "        vertical-align: top;\n",
       "    }\n",
       "\n",
       "    .dataframe thead th {\n",
       "        text-align: right;\n",
       "    }\n",
       "</style>\n",
       "<table border=\"1\" class=\"dataframe\">\n",
       "  <thead>\n",
       "    <tr style=\"text-align: right;\">\n",
       "      <th></th>\n",
       "      <th>name</th>\n",
       "      <th>diameter</th>\n",
       "      <th>weight</th>\n",
       "      <th>red</th>\n",
       "      <th>green</th>\n",
       "      <th>blue</th>\n",
       "    </tr>\n",
       "  </thead>\n",
       "  <tbody>\n",
       "    <tr>\n",
       "      <th>0</th>\n",
       "      <td>orange</td>\n",
       "      <td>2.96</td>\n",
       "      <td>86.76</td>\n",
       "      <td>172</td>\n",
       "      <td>85</td>\n",
       "      <td>2</td>\n",
       "    </tr>\n",
       "    <tr>\n",
       "      <th>1</th>\n",
       "      <td>orange</td>\n",
       "      <td>3.91</td>\n",
       "      <td>88.05</td>\n",
       "      <td>166</td>\n",
       "      <td>78</td>\n",
       "      <td>3</td>\n",
       "    </tr>\n",
       "    <tr>\n",
       "      <th>2</th>\n",
       "      <td>orange</td>\n",
       "      <td>4.42</td>\n",
       "      <td>95.17</td>\n",
       "      <td>156</td>\n",
       "      <td>81</td>\n",
       "      <td>2</td>\n",
       "    </tr>\n",
       "    <tr>\n",
       "      <th>3</th>\n",
       "      <td>orange</td>\n",
       "      <td>4.47</td>\n",
       "      <td>95.60</td>\n",
       "      <td>163</td>\n",
       "      <td>81</td>\n",
       "      <td>4</td>\n",
       "    </tr>\n",
       "    <tr>\n",
       "      <th>4</th>\n",
       "      <td>orange</td>\n",
       "      <td>4.48</td>\n",
       "      <td>95.76</td>\n",
       "      <td>161</td>\n",
       "      <td>72</td>\n",
       "      <td>9</td>\n",
       "    </tr>\n",
       "  </tbody>\n",
       "</table>\n",
       "</div>"
      ],
      "text/plain": [
       "     name  diameter  weight  red  green  blue\n",
       "0  orange      2.96   86.76  172     85     2\n",
       "1  orange      3.91   88.05  166     78     3\n",
       "2  orange      4.42   95.17  156     81     2\n",
       "3  orange      4.47   95.60  163     81     4\n",
       "4  orange      4.48   95.76  161     72     9"
      ]
     },
     "execution_count": 12,
     "metadata": {},
     "output_type": "execute_result"
    }
   ],
   "source": [
    "import pandas as pd\n",
    "\n",
    "df = pd.read_csv('https://drive.google.com/uc?id=1XZbZ5Z7MBXYaR3UO1HbQ4ncPi4R3HsyF')\n",
    "df.head()"
   ]
  },
  {
   "cell_type": "code",
   "execution_count": 13,
   "metadata": {},
   "outputs": [
    {
     "name": "stdout",
     "output_type": "stream",
     "text": [
      "<class 'pandas.core.frame.DataFrame'>\n",
      "RangeIndex: 10000 entries, 0 to 9999\n",
      "Data columns (total 6 columns):\n",
      " #   Column    Non-Null Count  Dtype  \n",
      "---  ------    --------------  -----  \n",
      " 0   name      10000 non-null  object \n",
      " 1   diameter  10000 non-null  float64\n",
      " 2   weight    10000 non-null  float64\n",
      " 3   red       10000 non-null  int64  \n",
      " 4   green     10000 non-null  int64  \n",
      " 5   blue      10000 non-null  int64  \n",
      "dtypes: float64(2), int64(3), object(1)\n",
      "memory usage: 468.9+ KB\n"
     ]
    }
   ],
   "source": [
    "df.info()"
   ]
  },
  {
   "cell_type": "code",
   "execution_count": 14,
   "metadata": {},
   "outputs": [
    {
     "name": "stderr",
     "output_type": "stream",
     "text": [
      "C:\\Users\\asus\\AppData\\Local\\Temp\\ipykernel_14972\\257023848.py:2: FutureWarning: ChainedAssignmentError: behaviour will change in pandas 3.0!\n",
      "You are setting values through chained assignment. Currently this works in certain cases, but when using Copy-on-Write (which will become the default behaviour in pandas 3.0) this will never work to update the original DataFrame or Series, because the intermediate object on which we are setting values will behave as a copy.\n",
      "A typical example is when you are setting values in a column of a DataFrame, like:\n",
      "\n",
      "df[\"col\"][row_indexer] = value\n",
      "\n",
      "Use `df.loc[row_indexer, \"col\"] = values` instead, to perform the assignment in a single step and ensure this keeps updating the original `df`.\n",
      "\n",
      "See the caveats in the documentation: https://pandas.pydata.org/pandas-docs/stable/user_guide/indexing.html#returning-a-view-versus-a-copy\n",
      "\n",
      "  df.name[df.name == 'grapefruit'] = 0\n",
      "C:\\Users\\asus\\AppData\\Local\\Temp\\ipykernel_14972\\257023848.py:2: SettingWithCopyWarning: \n",
      "A value is trying to be set on a copy of a slice from a DataFrame\n",
      "\n",
      "See the caveats in the documentation: https://pandas.pydata.org/pandas-docs/stable/user_guide/indexing.html#returning-a-view-versus-a-copy\n",
      "  df.name[df.name == 'grapefruit'] = 0\n",
      "C:\\Users\\asus\\AppData\\Local\\Temp\\ipykernel_14972\\257023848.py:3: FutureWarning: ChainedAssignmentError: behaviour will change in pandas 3.0!\n",
      "You are setting values through chained assignment. Currently this works in certain cases, but when using Copy-on-Write (which will become the default behaviour in pandas 3.0) this will never work to update the original DataFrame or Series, because the intermediate object on which we are setting values will behave as a copy.\n",
      "A typical example is when you are setting values in a column of a DataFrame, like:\n",
      "\n",
      "df[\"col\"][row_indexer] = value\n",
      "\n",
      "Use `df.loc[row_indexer, \"col\"] = values` instead, to perform the assignment in a single step and ensure this keeps updating the original `df`.\n",
      "\n",
      "See the caveats in the documentation: https://pandas.pydata.org/pandas-docs/stable/user_guide/indexing.html#returning-a-view-versus-a-copy\n",
      "\n",
      "  df.name[df.name == 'orange'] = 1\n",
      "C:\\Users\\asus\\AppData\\Local\\Temp\\ipykernel_14972\\257023848.py:3: SettingWithCopyWarning: \n",
      "A value is trying to be set on a copy of a slice from a DataFrame\n",
      "\n",
      "See the caveats in the documentation: https://pandas.pydata.org/pandas-docs/stable/user_guide/indexing.html#returning-a-view-versus-a-copy\n",
      "  df.name[df.name == 'orange'] = 1\n"
     ]
    }
   ],
   "source": [
    "# Ubah data Kategori ke dalam tipe data category karena deep learning tidak bisa memproses data kategori\n",
    "df.name[df.name == 'grapefruit'] = 0\n",
    "df.name[df.name == 'orange'] = 1"
   ]
  },
  {
   "cell_type": "code",
   "execution_count": 15,
   "metadata": {},
   "outputs": [
    {
     "name": "stdout",
     "output_type": "stream",
     "text": [
      "      name  diameter  weight  red  green  blue\n",
      "0        1      2.96   86.76  172     85     2\n",
      "1        1      3.91   88.05  166     78     3\n",
      "2        1      4.42   95.17  156     81     2\n",
      "3        1      4.47   95.60  163     81     4\n",
      "4        1      4.48   95.76  161     72     9\n",
      "...    ...       ...     ...  ...    ...   ...\n",
      "9995     0     15.35  253.89  149     77    20\n",
      "9996     0     15.41  254.67  148     68     7\n",
      "9997     0     15.59  256.50  168     82    20\n",
      "9998     0     15.92  260.14  142     72    11\n",
      "9999     0     16.45  261.51  152     74     2\n",
      "\n",
      "[10000 rows x 6 columns]\n"
     ]
    }
   ],
   "source": [
    "from sklearn import preprocessing\n",
    " \n",
    "label_encoder = preprocessing.LabelEncoder() \n",
    "df['name'] = label_encoder.fit_transform(df['name']) \n",
    "print(df)"
   ]
  },
  {
   "cell_type": "code",
   "execution_count": 16,
   "metadata": {},
   "outputs": [
    {
     "name": "stdout",
     "output_type": "stream",
     "text": [
      "<class 'pandas.core.frame.DataFrame'>\n",
      "RangeIndex: 10000 entries, 0 to 9999\n",
      "Data columns (total 6 columns):\n",
      " #   Column    Non-Null Count  Dtype  \n",
      "---  ------    --------------  -----  \n",
      " 0   name      10000 non-null  int32  \n",
      " 1   diameter  10000 non-null  float64\n",
      " 2   weight    10000 non-null  float64\n",
      " 3   red       10000 non-null  int64  \n",
      " 4   green     10000 non-null  int64  \n",
      " 5   blue      10000 non-null  int64  \n",
      "dtypes: float64(2), int32(1), int64(3)\n",
      "memory usage: 429.8 KB\n"
     ]
    }
   ],
   "source": [
    "df.info()"
   ]
  },
  {
   "cell_type": "code",
   "execution_count": 17,
   "metadata": {},
   "outputs": [
    {
     "data": {
      "text/plain": [
       "array([[  1.  ,   2.96,  86.76, 172.  ,  85.  ,   2.  ],\n",
       "       [  1.  ,   3.91,  88.05, 166.  ,  78.  ,   3.  ],\n",
       "       [  1.  ,   4.42,  95.17, 156.  ,  81.  ,   2.  ],\n",
       "       ...,\n",
       "       [  0.  ,  15.59, 256.5 , 168.  ,  82.  ,  20.  ],\n",
       "       [  0.  ,  15.92, 260.14, 142.  ,  72.  ,  11.  ],\n",
       "       [  0.  ,  16.45, 261.51, 152.  ,  74.  ,   2.  ]])"
      ]
     },
     "execution_count": 17,
     "metadata": {},
     "output_type": "execute_result"
    }
   ],
   "source": [
    "dataset = df.values\n",
    "dataset"
   ]
  },
  {
   "cell_type": "code",
   "execution_count": 18,
   "metadata": {},
   "outputs": [],
   "source": [
    "# pilih 5 kolom terakhir sebagai atribut\n",
    "# bilangan sebelum koma untuk memilih baris pada dataframe\n",
    "# bilangan setelah koma untuk memilih kolom pada dataframe\n",
    "X = dataset[:,1:6]\n",
    "y = dataset[:,0]"
   ]
  },
  {
   "cell_type": "code",
   "execution_count": 19,
   "metadata": {},
   "outputs": [
    {
     "data": {
      "text/plain": [
       "array([[0.        , 0.        , 0.74025974, 0.63529412, 0.        ],\n",
       "       [0.07042254, 0.00738197, 0.66233766, 0.55294118, 0.01851852],\n",
       "       [0.10822832, 0.04812589, 0.53246753, 0.58823529, 0.        ],\n",
       "       ...,\n",
       "       [0.93624907, 0.97133047, 0.68831169, 0.6       , 0.33333333],\n",
       "       [0.96071164, 0.99216023, 0.35064935, 0.48235294, 0.16666667],\n",
       "       [1.        , 1.        , 0.48051948, 0.50588235, 0.        ]])"
      ]
     },
     "execution_count": 19,
     "metadata": {},
     "output_type": "execute_result"
    }
   ],
   "source": [
    "# Normalisasi data dengan MinMaxScaler\n",
    "from sklearn import preprocessing\n",
    "min_max_scaler = preprocessing.MinMaxScaler()\n",
    "X_scale = min_max_scaler.fit_transform(X)\n",
    "X_scale"
   ]
  },
  {
   "cell_type": "code",
   "execution_count": 20,
   "metadata": {},
   "outputs": [],
   "source": [
    "# pisahkan data training dan testing\n",
    "from sklearn.model_selection import train_test_split\n",
    "X_train, X_test, Y_train, Y_test = train_test_split(X_scale, y, test_size=0.3)"
   ]
  },
  {
   "cell_type": "code",
   "execution_count": 21,
   "metadata": {},
   "outputs": [],
   "source": [
    "from keras.models import Sequential\n",
    "from keras.layers import Dense"
   ]
  },
  {
   "cell_type": "code",
   "execution_count": 22,
   "metadata": {},
   "outputs": [],
   "source": [
    "model = Sequential([    \n",
    "                    Dense(32, activation='relu', input_shape=(5,)),    \n",
    "                    Dense(32, activation='relu'),    \n",
    "                    Dense(1, activation='sigmoid')])"
   ]
  },
  {
   "cell_type": "code",
   "execution_count": 23,
   "metadata": {},
   "outputs": [],
   "source": [
    "model.compile(optimizer='sgd',\n",
    "              loss='binary_crossentropy',\n",
    "              metrics=['accuracy'])"
   ]
  },
  {
   "cell_type": "code",
   "execution_count": 24,
   "metadata": {},
   "outputs": [
    {
     "name": "stdout",
     "output_type": "stream",
     "text": [
      "Epoch 1/100\n",
      "219/219 [==============================] - 15s 8ms/step - loss: 0.6796 - accuracy: 0.5604\n",
      "Epoch 2/100\n",
      "219/219 [==============================] - 1s 4ms/step - loss: 0.6427 - accuracy: 0.8991\n",
      "Epoch 3/100\n",
      "219/219 [==============================] - 1s 5ms/step - loss: 0.5935 - accuracy: 0.9273\n",
      "Epoch 4/100\n",
      "219/219 [==============================] - 1s 5ms/step - loss: 0.5211 - accuracy: 0.9300\n",
      "Epoch 5/100\n",
      "219/219 [==============================] - 1s 4ms/step - loss: 0.4293 - accuracy: 0.9294\n",
      "Epoch 6/100\n",
      "219/219 [==============================] - 1s 5ms/step - loss: 0.3413 - accuracy: 0.9326\n",
      "Epoch 7/100\n",
      "219/219 [==============================] - 1s 5ms/step - loss: 0.2768 - accuracy: 0.9320\n",
      "Epoch 8/100\n",
      "219/219 [==============================] - 1s 5ms/step - loss: 0.2372 - accuracy: 0.9311\n",
      "Epoch 9/100\n",
      "219/219 [==============================] - 1s 5ms/step - loss: 0.2140 - accuracy: 0.9323\n",
      "Epoch 10/100\n",
      "219/219 [==============================] - 1s 5ms/step - loss: 0.1996 - accuracy: 0.9314\n",
      "Epoch 11/100\n",
      "219/219 [==============================] - 1s 5ms/step - loss: 0.1912 - accuracy: 0.9326\n",
      "Epoch 12/100\n",
      "219/219 [==============================] - 1s 5ms/step - loss: 0.1855 - accuracy: 0.9313\n",
      "Epoch 13/100\n",
      "219/219 [==============================] - 1s 5ms/step - loss: 0.1818 - accuracy: 0.9320\n",
      "Epoch 14/100\n",
      "219/219 [==============================] - 1s 5ms/step - loss: 0.1791 - accuracy: 0.9313\n",
      "Epoch 15/100\n",
      "219/219 [==============================] - 1s 6ms/step - loss: 0.1774 - accuracy: 0.9324\n",
      "Epoch 16/100\n",
      "219/219 [==============================] - 1s 5ms/step - loss: 0.1766 - accuracy: 0.9321\n",
      "Epoch 17/100\n",
      "219/219 [==============================] - 1s 5ms/step - loss: 0.1756 - accuracy: 0.9319\n",
      "Epoch 18/100\n",
      "219/219 [==============================] - 1s 5ms/step - loss: 0.1749 - accuracy: 0.9313\n",
      "Epoch 19/100\n",
      "219/219 [==============================] - 1s 5ms/step - loss: 0.1746 - accuracy: 0.9314\n",
      "Epoch 20/100\n",
      "219/219 [==============================] - 1s 5ms/step - loss: 0.1744 - accuracy: 0.9323\n",
      "Epoch 21/100\n",
      "219/219 [==============================] - 1s 4ms/step - loss: 0.1738 - accuracy: 0.9337\n",
      "Epoch 22/100\n",
      "219/219 [==============================] - 1s 4ms/step - loss: 0.1739 - accuracy: 0.9323\n",
      "Epoch 23/100\n",
      "219/219 [==============================] - 1s 5ms/step - loss: 0.1740 - accuracy: 0.9317\n",
      "Epoch 24/100\n",
      "219/219 [==============================] - 1s 4ms/step - loss: 0.1735 - accuracy: 0.9313\n",
      "Epoch 25/100\n",
      "219/219 [==============================] - 1s 4ms/step - loss: 0.1735 - accuracy: 0.9330\n",
      "Epoch 26/100\n",
      "219/219 [==============================] - 1s 4ms/step - loss: 0.1734 - accuracy: 0.9311\n",
      "Epoch 27/100\n",
      "219/219 [==============================] - 1s 4ms/step - loss: 0.1735 - accuracy: 0.9329\n",
      "Epoch 28/100\n",
      "219/219 [==============================] - 1s 4ms/step - loss: 0.1730 - accuracy: 0.9330\n",
      "Epoch 29/100\n",
      "219/219 [==============================] - 1s 4ms/step - loss: 0.1733 - accuracy: 0.9323\n",
      "Epoch 30/100\n",
      "219/219 [==============================] - 1s 4ms/step - loss: 0.1731 - accuracy: 0.9324\n",
      "Epoch 31/100\n",
      "219/219 [==============================] - 1s 4ms/step - loss: 0.1733 - accuracy: 0.9319\n",
      "Epoch 32/100\n",
      "219/219 [==============================] - 1s 4ms/step - loss: 0.1731 - accuracy: 0.9310\n",
      "Epoch 33/100\n",
      "219/219 [==============================] - 1s 5ms/step - loss: 0.1730 - accuracy: 0.9330\n",
      "Epoch 34/100\n",
      "219/219 [==============================] - 1s 4ms/step - loss: 0.1731 - accuracy: 0.9330\n",
      "Epoch 35/100\n",
      "219/219 [==============================] - 1s 5ms/step - loss: 0.1725 - accuracy: 0.9326\n",
      "Epoch 36/100\n",
      "219/219 [==============================] - 1s 5ms/step - loss: 0.1730 - accuracy: 0.9316\n",
      "Epoch 37/100\n",
      "219/219 [==============================] - 1s 4ms/step - loss: 0.1728 - accuracy: 0.9314\n",
      "Epoch 38/100\n",
      "219/219 [==============================] - 1s 4ms/step - loss: 0.1726 - accuracy: 0.9317\n",
      "Epoch 39/100\n",
      "219/219 [==============================] - 1s 4ms/step - loss: 0.1727 - accuracy: 0.9320\n",
      "Epoch 40/100\n",
      "219/219 [==============================] - 1s 4ms/step - loss: 0.1725 - accuracy: 0.9321\n",
      "Epoch 41/100\n",
      "219/219 [==============================] - 1s 5ms/step - loss: 0.1733 - accuracy: 0.9317\n",
      "Epoch 42/100\n",
      "219/219 [==============================] - 1s 5ms/step - loss: 0.1726 - accuracy: 0.9317\n",
      "Epoch 43/100\n",
      "219/219 [==============================] - 1s 4ms/step - loss: 0.1729 - accuracy: 0.9311\n",
      "Epoch 44/100\n",
      "219/219 [==============================] - 1s 4ms/step - loss: 0.1728 - accuracy: 0.9304\n",
      "Epoch 45/100\n",
      "219/219 [==============================] - 1s 4ms/step - loss: 0.1727 - accuracy: 0.9326\n",
      "Epoch 46/100\n",
      "219/219 [==============================] - 1s 4ms/step - loss: 0.1725 - accuracy: 0.9321\n",
      "Epoch 47/100\n",
      "219/219 [==============================] - 1s 4ms/step - loss: 0.1730 - accuracy: 0.9310\n",
      "Epoch 48/100\n",
      "219/219 [==============================] - 1s 4ms/step - loss: 0.1725 - accuracy: 0.9321\n",
      "Epoch 49/100\n",
      "219/219 [==============================] - 1s 4ms/step - loss: 0.1726 - accuracy: 0.9310\n",
      "Epoch 50/100\n",
      "219/219 [==============================] - 1s 4ms/step - loss: 0.1726 - accuracy: 0.9317\n",
      "Epoch 51/100\n",
      "219/219 [==============================] - 1s 5ms/step - loss: 0.1725 - accuracy: 0.9323\n",
      "Epoch 52/100\n",
      "219/219 [==============================] - 1s 5ms/step - loss: 0.1722 - accuracy: 0.9304\n",
      "Epoch 53/100\n",
      "219/219 [==============================] - 1s 5ms/step - loss: 0.1729 - accuracy: 0.9309\n",
      "Epoch 54/100\n",
      "219/219 [==============================] - 1s 5ms/step - loss: 0.1727 - accuracy: 0.9317\n",
      "Epoch 55/100\n",
      "219/219 [==============================] - 1s 5ms/step - loss: 0.1726 - accuracy: 0.9324\n",
      "Epoch 56/100\n",
      "219/219 [==============================] - 1s 5ms/step - loss: 0.1723 - accuracy: 0.9313\n",
      "Epoch 57/100\n",
      "219/219 [==============================] - 1s 4ms/step - loss: 0.1727 - accuracy: 0.9316\n",
      "Epoch 58/100\n",
      "219/219 [==============================] - 1s 5ms/step - loss: 0.1722 - accuracy: 0.9310\n",
      "Epoch 59/100\n",
      "219/219 [==============================] - 1s 5ms/step - loss: 0.1724 - accuracy: 0.9314\n",
      "Epoch 60/100\n",
      "219/219 [==============================] - 1s 5ms/step - loss: 0.1725 - accuracy: 0.9307\n",
      "Epoch 61/100\n",
      "219/219 [==============================] - 1s 4ms/step - loss: 0.1720 - accuracy: 0.9310\n",
      "Epoch 62/100\n",
      "219/219 [==============================] - 1s 4ms/step - loss: 0.1723 - accuracy: 0.9317\n",
      "Epoch 63/100\n",
      "219/219 [==============================] - 1s 5ms/step - loss: 0.1726 - accuracy: 0.9316\n",
      "Epoch 64/100\n",
      "219/219 [==============================] - 1s 5ms/step - loss: 0.1727 - accuracy: 0.9323\n",
      "Epoch 65/100\n",
      "219/219 [==============================] - 1s 4ms/step - loss: 0.1722 - accuracy: 0.9319\n",
      "Epoch 66/100\n",
      "219/219 [==============================] - 1s 5ms/step - loss: 0.1719 - accuracy: 0.9316\n",
      "Epoch 67/100\n",
      "219/219 [==============================] - 1s 5ms/step - loss: 0.1718 - accuracy: 0.9326\n",
      "Epoch 68/100\n",
      "219/219 [==============================] - 1s 5ms/step - loss: 0.1721 - accuracy: 0.9314\n",
      "Epoch 69/100\n",
      "219/219 [==============================] - 1s 5ms/step - loss: 0.1723 - accuracy: 0.9329\n",
      "Epoch 70/100\n",
      "219/219 [==============================] - 1s 5ms/step - loss: 0.1725 - accuracy: 0.9310\n",
      "Epoch 71/100\n",
      "219/219 [==============================] - 1s 5ms/step - loss: 0.1719 - accuracy: 0.9316\n",
      "Epoch 72/100\n",
      "219/219 [==============================] - 1s 5ms/step - loss: 0.1722 - accuracy: 0.9319\n",
      "Epoch 73/100\n",
      "219/219 [==============================] - 1s 5ms/step - loss: 0.1722 - accuracy: 0.9327\n",
      "Epoch 74/100\n",
      "219/219 [==============================] - 1s 5ms/step - loss: 0.1720 - accuracy: 0.9324\n",
      "Epoch 75/100\n",
      "219/219 [==============================] - 1s 5ms/step - loss: 0.1722 - accuracy: 0.9310\n",
      "Epoch 76/100\n",
      "219/219 [==============================] - 1s 5ms/step - loss: 0.1723 - accuracy: 0.9327\n",
      "Epoch 77/100\n",
      "219/219 [==============================] - 1s 5ms/step - loss: 0.1723 - accuracy: 0.9314\n",
      "Epoch 78/100\n",
      "219/219 [==============================] - 1s 5ms/step - loss: 0.1718 - accuracy: 0.9329\n",
      "Epoch 79/100\n",
      "219/219 [==============================] - 1s 5ms/step - loss: 0.1723 - accuracy: 0.9311\n",
      "Epoch 80/100\n",
      "219/219 [==============================] - 1s 5ms/step - loss: 0.1720 - accuracy: 0.9317\n",
      "Epoch 81/100\n",
      "219/219 [==============================] - 1s 5ms/step - loss: 0.1722 - accuracy: 0.9314\n",
      "Epoch 82/100\n",
      "219/219 [==============================] - 1s 5ms/step - loss: 0.1716 - accuracy: 0.9331\n",
      "Epoch 83/100\n",
      "219/219 [==============================] - 1s 5ms/step - loss: 0.1721 - accuracy: 0.9306\n",
      "Epoch 84/100\n",
      "219/219 [==============================] - 1s 5ms/step - loss: 0.1716 - accuracy: 0.9329\n",
      "Epoch 85/100\n",
      "219/219 [==============================] - 1s 5ms/step - loss: 0.1718 - accuracy: 0.9306\n",
      "Epoch 86/100\n",
      "219/219 [==============================] - 1s 5ms/step - loss: 0.1722 - accuracy: 0.9313\n",
      "Epoch 87/100\n",
      "219/219 [==============================] - 1s 5ms/step - loss: 0.1719 - accuracy: 0.9324\n",
      "Epoch 88/100\n",
      "219/219 [==============================] - 1s 5ms/step - loss: 0.1719 - accuracy: 0.9323\n",
      "Epoch 89/100\n",
      "219/219 [==============================] - 1s 5ms/step - loss: 0.1719 - accuracy: 0.9314\n",
      "Epoch 90/100\n",
      "219/219 [==============================] - 1s 5ms/step - loss: 0.1721 - accuracy: 0.9313\n",
      "Epoch 91/100\n",
      "219/219 [==============================] - 1s 5ms/step - loss: 0.1720 - accuracy: 0.9323\n",
      "Epoch 92/100\n",
      "219/219 [==============================] - 1s 4ms/step - loss: 0.1718 - accuracy: 0.9327\n",
      "Epoch 93/100\n",
      "219/219 [==============================] - 1s 5ms/step - loss: 0.1718 - accuracy: 0.9329\n",
      "Epoch 94/100\n",
      "219/219 [==============================] - 1s 5ms/step - loss: 0.1714 - accuracy: 0.9330\n",
      "Epoch 95/100\n",
      "219/219 [==============================] - 1s 4ms/step - loss: 0.1719 - accuracy: 0.9321\n",
      "Epoch 96/100\n",
      "219/219 [==============================] - 1s 4ms/step - loss: 0.1718 - accuracy: 0.9330\n",
      "Epoch 97/100\n",
      "219/219 [==============================] - 1s 5ms/step - loss: 0.1713 - accuracy: 0.9330\n",
      "Epoch 98/100\n",
      "219/219 [==============================] - 1s 4ms/step - loss: 0.1715 - accuracy: 0.9327\n",
      "Epoch 99/100\n",
      "219/219 [==============================] - 1s 5ms/step - loss: 0.1713 - accuracy: 0.9333\n",
      "Epoch 100/100\n",
      "219/219 [==============================] - 1s 5ms/step - loss: 0.1714 - accuracy: 0.9333\n"
     ]
    },
    {
     "data": {
      "text/plain": [
       "<keras.callbacks.History at 0x283081b48b0>"
      ]
     },
     "execution_count": 24,
     "metadata": {},
     "output_type": "execute_result"
    }
   ],
   "source": [
    "model.fit(X_train, Y_train, epochs=100)"
   ]
  },
  {
   "cell_type": "code",
   "execution_count": 25,
   "metadata": {},
   "outputs": [
    {
     "name": "stdout",
     "output_type": "stream",
     "text": [
      "3000/3000 [==============================] - 11s 4ms/step - loss: 0.1900 - accuracy: 0.9180\n"
     ]
    },
    {
     "data": {
      "text/plain": [
       "[0.19001536071300507, 0.9179999828338623]"
      ]
     },
     "execution_count": 25,
     "metadata": {},
     "output_type": "execute_result"
    }
   ],
   "source": [
    "model.evaluate(X_test, Y_test, batch_size=1)"
   ]
  }
 ],
 "metadata": {
  "kernelspec": {
   "display_name": "tf",
   "language": "python",
   "name": "python3"
  },
  "language_info": {
   "codemirror_mode": {
    "name": "ipython",
    "version": 3
   },
   "file_extension": ".py",
   "mimetype": "text/x-python",
   "name": "python",
   "nbconvert_exporter": "python",
   "pygments_lexer": "ipython3",
   "version": "3.9.21"
  }
 },
 "nbformat": 4,
 "nbformat_minor": 2
}
